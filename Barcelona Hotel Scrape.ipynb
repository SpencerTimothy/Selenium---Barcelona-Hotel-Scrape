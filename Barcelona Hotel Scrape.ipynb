{
 "cells": [
  {
   "cell_type": "markdown",
   "id": "2f07adb2",
   "metadata": {},
   "source": [
    "<center><h1>Barcelona Hotel Scrape</h1></center>\n",
    "<ol>\n",
    "    <li>Hotel name</li>\n",
    "    <li>email</li>\n",
    "    <li>Website</li>\n",
    "</ol>"
   ]
  },
  {
   "cell_type": "code",
   "execution_count": 1,
   "id": "04ffc1c6",
   "metadata": {},
   "outputs": [],
   "source": [
    "# Import necessary modules from Selenium library\n",
    "from selenium import webdriver\n",
    "from selenium.webdriver.common.by import By\n",
    "from selenium.webdriver.common.keys import Keys\n",
    "from selenium.common.exceptions import NoSuchElementException\n",
    "\n",
    "# Import time module for pauses and delays\n",
    "import time\n",
    "\n",
    "# Import pandas library for data manipulation and analysis\n",
    "import pandas as pd"
   ]
  },
  {
   "cell_type": "code",
   "execution_count": 2,
   "id": "f55d2bef",
   "metadata": {},
   "outputs": [],
   "source": [
    "# Specify the URL of the webpage to be accessed\n",
    "url = 'https://www.barcelonahotels.org/es/establiments-associats'\n",
    "\n",
    "# Create an instance of the Chrome WebDriver\n",
    "driver = webdriver.Chrome()\n",
    "\n",
    "# Open the specified URL in the Chrome browser\n",
    "driver.get(url)"
   ]
  },
  {
   "cell_type": "code",
   "execution_count": 3,
   "id": "1a49e54b",
   "metadata": {},
   "outputs": [],
   "source": [
    "# Set an implicit wait of 10 seconds for the WebDriver\n",
    "driver.implicitly_wait(10)\n",
    "\n",
    "# Initialize empty lists to store the names and links\n",
    "name_list = []\n",
    "link_list = []\n",
    "\n",
    "# Iterate over 45 pages of the website\n",
    "for link in range(1, 46):\n",
    "    # Access each page using the page number in the URL\n",
    "    driver.get(f'https://www.barcelonahotels.org/es/establiments-associats?page={link}')\n",
    "    \n",
    "    # Find all elements with CSS class 'views-field views-field-name' and extract the text\n",
    "    name = driver.find_elements(By.CSS_SELECTOR, \"td[class='views-field views-field-name']\")\n",
    "    for i in name:\n",
    "        name_list.append(i.text)\n",
    "    \n",
    "    # Find all table rows within the tbody and extract the href attribute from each row\n",
    "    table_rows = driver.find_elements(By.CSS_SELECTOR, \"tbody tr\")\n",
    "    for row in table_rows:\n",
    "        link_element = row.find_element(By.CSS_SELECTOR, \"td.views-field-slug a\")\n",
    "        href_value = link_element.get_attribute(\"href\")\n",
    "        link_list.append(href_value)"
   ]
  },
  {
   "cell_type": "code",
   "execution_count": 4,
   "id": "0b718ec1",
   "metadata": {},
   "outputs": [],
   "source": [
    "# print(name_list)"
   ]
  },
  {
   "cell_type": "code",
   "execution_count": 5,
   "id": "b4474ba4",
   "metadata": {},
   "outputs": [],
   "source": [
    "# print(link_list)"
   ]
  },
  {
   "cell_type": "code",
   "execution_count": 6,
   "id": "ab443ecf",
   "metadata": {},
   "outputs": [],
   "source": [
    "# Initialize empty lists to store email and website information\n",
    "email_list = []\n",
    "website_list = []\n",
    "\n",
    "# Iterate over each link in the link_list\n",
    "for link in link_list:\n",
    "    # Access each link using the WebDriver\n",
    "    driver.get(link)\n",
    "    # time.sleep(1)  # Optional sleep to add a delay between requests\n",
    "    \n",
    "    try:\n",
    "        # Find the <p> element containing the email\n",
    "        email_element = driver.find_element(By.CSS_SELECTOR, \"p i.icon-envelope + b + a\")\n",
    "        email = email_element.text\n",
    "    except NoSuchElementException:\n",
    "        email = \"\"  # Append an empty string if no email is found\n",
    "        \n",
    "    try:\n",
    "        # Find the <p> element containing the website\n",
    "        website_element = driver.find_element(By.CSS_SELECTOR, \"p i.icon-home + b + a\")\n",
    "        website = website_element.text\n",
    "    except NoSuchElementException:\n",
    "        website = \"\"  # Append an empty string if no website is found\n",
    "\n",
    "    # Append the email and website to their respective lists\n",
    "    email_list.append(email)\n",
    "    website_list.append(website)"
   ]
  },
  {
   "cell_type": "code",
   "execution_count": 7,
   "id": "c312da0c",
   "metadata": {},
   "outputs": [
    {
     "name": "stdout",
     "output_type": "stream",
     "text": [
      "445\n",
      "445\n",
      "445\n"
     ]
    }
   ],
   "source": [
    "# Check if all data was collected\n",
    "print(len(name_list))\n",
    "print(len(email_list))\n",
    "print(len(website_list))"
   ]
  },
  {
   "cell_type": "code",
   "execution_count": 8,
   "id": "b19c6e95",
   "metadata": {},
   "outputs": [
    {
     "data": {
      "text/html": [
       "<div>\n",
       "<style scoped>\n",
       "    .dataframe tbody tr th:only-of-type {\n",
       "        vertical-align: middle;\n",
       "    }\n",
       "\n",
       "    .dataframe tbody tr th {\n",
       "        vertical-align: top;\n",
       "    }\n",
       "\n",
       "    .dataframe thead th {\n",
       "        text-align: right;\n",
       "    }\n",
       "</style>\n",
       "<table border=\"1\" class=\"dataframe\">\n",
       "  <thead>\n",
       "    <tr style=\"text-align: right;\">\n",
       "      <th></th>\n",
       "      <th>name</th>\n",
       "      <th>email</th>\n",
       "      <th>website</th>\n",
       "    </tr>\n",
       "  </thead>\n",
       "  <tbody>\n",
       "    <tr>\n",
       "      <th>0</th>\n",
       "      <td>LE MÉRIDIEN BARCELONA</td>\n",
       "      <td>Reservas.barcelona@lemeridien.com</td>\n",
       "      <td>www.lemeridienbarcelona.com</td>\n",
       "    </tr>\n",
       "    <tr>\n",
       "      <th>1</th>\n",
       "      <td>MAJESTIC HOTEL &amp; SPA BARCELONA</td>\n",
       "      <td>info@hotelmajestic.es</td>\n",
       "      <td>www.hotelmajestic.es</td>\n",
       "    </tr>\n",
       "    <tr>\n",
       "      <th>2</th>\n",
       "      <td>MANDARIN ORIENTAL, BARCELONA</td>\n",
       "      <td>mobcn-reservations@mohg.com</td>\n",
       "      <td>www.mandarinoriental.com/barcelona</td>\n",
       "    </tr>\n",
       "    <tr>\n",
       "      <th>3</th>\n",
       "      <td>MERCER HOTEL BARCELONA</td>\n",
       "      <td>info@mercerbarcelona.com</td>\n",
       "      <td>www.mercerbarcelona.com</td>\n",
       "    </tr>\n",
       "    <tr>\n",
       "      <th>4</th>\n",
       "      <td>MONUMENT HOTEL</td>\n",
       "      <td>info@monument-hotel.com</td>\n",
       "      <td>www.monument-hotel.com</td>\n",
       "    </tr>\n",
       "    <tr>\n",
       "      <th>...</th>\n",
       "      <td>...</td>\n",
       "      <td>...</td>\n",
       "      <td>...</td>\n",
       "    </tr>\n",
       "    <tr>\n",
       "      <th>440</th>\n",
       "      <td>MH APARTMENTS LICEO</td>\n",
       "      <td>info@mhapartments.com</td>\n",
       "      <td>www.mhapartments.com</td>\n",
       "    </tr>\n",
       "    <tr>\n",
       "      <th>441</th>\n",
       "      <td>PIERRE &amp; VACANCES BARCELONA SANTS</td>\n",
       "      <td>vpl@fr.groupepvcp.com</td>\n",
       "      <td>www.pierrevacances.es</td>\n",
       "    </tr>\n",
       "    <tr>\n",
       "      <th>442</th>\n",
       "      <td>ROCAMORA APARTMENTS</td>\n",
       "      <td>info@rocamoraapartments.com</td>\n",
       "      <td>https://www.rocamoraapartments.com</td>\n",
       "    </tr>\n",
       "    <tr>\n",
       "      <th>443</th>\n",
       "      <td>SENSATION SAGRADA FAMILIA</td>\n",
       "      <td>info@sensation-apartments.com</td>\n",
       "      <td>www.sensation-apartments.com</td>\n",
       "    </tr>\n",
       "    <tr>\n",
       "      <th>444</th>\n",
       "      <td>SERENNIA APARTAMENTOS RAMBLAS PLAÇA CATALUNYA</td>\n",
       "      <td>info@serennia.com</td>\n",
       "      <td>www.serennia.com</td>\n",
       "    </tr>\n",
       "  </tbody>\n",
       "</table>\n",
       "<p>445 rows × 3 columns</p>\n",
       "</div>"
      ],
      "text/plain": [
       "                                              name  \\\n",
       "0                            LE MÉRIDIEN BARCELONA   \n",
       "1                   MAJESTIC HOTEL & SPA BARCELONA   \n",
       "2                     MANDARIN ORIENTAL, BARCELONA   \n",
       "3                           MERCER HOTEL BARCELONA   \n",
       "4                                   MONUMENT HOTEL   \n",
       "..                                             ...   \n",
       "440                            MH APARTMENTS LICEO   \n",
       "441              PIERRE & VACANCES BARCELONA SANTS   \n",
       "442                            ROCAMORA APARTMENTS   \n",
       "443                      SENSATION SAGRADA FAMILIA   \n",
       "444  SERENNIA APARTAMENTOS RAMBLAS PLAÇA CATALUNYA   \n",
       "\n",
       "                                 email                             website  \n",
       "0    Reservas.barcelona@lemeridien.com         www.lemeridienbarcelona.com  \n",
       "1                info@hotelmajestic.es                www.hotelmajestic.es  \n",
       "2          mobcn-reservations@mohg.com  www.mandarinoriental.com/barcelona  \n",
       "3             info@mercerbarcelona.com             www.mercerbarcelona.com  \n",
       "4              info@monument-hotel.com              www.monument-hotel.com  \n",
       "..                                 ...                                 ...  \n",
       "440              info@mhapartments.com                www.mhapartments.com  \n",
       "441              vpl@fr.groupepvcp.com               www.pierrevacances.es  \n",
       "442        info@rocamoraapartments.com  https://www.rocamoraapartments.com  \n",
       "443      info@sensation-apartments.com        www.sensation-apartments.com  \n",
       "444                  info@serennia.com                    www.serennia.com  \n",
       "\n",
       "[445 rows x 3 columns]"
      ]
     },
     "execution_count": 8,
     "metadata": {},
     "output_type": "execute_result"
    }
   ],
   "source": [
    "# Create a dictionary with the collected data\n",
    "\n",
    "data = {\n",
    "    \"name\": name_list,\n",
    "    \"email\": email_list,\n",
    "    \"website\": website_list\n",
    "}\n",
    "\n",
    "# Create the dataframe from the dictionary\n",
    "df = pd.DataFrame(data)\n",
    "\n",
    "# Print the dataframe\n",
    "df"
   ]
  },
  {
   "cell_type": "code",
   "execution_count": 9,
   "id": "4672ae8a",
   "metadata": {},
   "outputs": [],
   "source": [
    "# # Save sample dataframe to .CSV file\n",
    "\n",
    "# filename = 'Sample Barcelona Hotels Data.csv'\n",
    "# df.to_csv(filename, index=False)\n",
    "\n",
    "# print(f\"DataFrame saved as {filename} successfully.\")"
   ]
  },
  {
   "cell_type": "code",
   "execution_count": 10,
   "id": "d7171079",
   "metadata": {},
   "outputs": [
    {
     "name": "stdout",
     "output_type": "stream",
     "text": [
      "DataFrame saved as Full Barcelona Hotels Data.csv successfully.\n"
     ]
    }
   ],
   "source": [
    "# Save full dataframe to .CSV file\n",
    "\n",
    "filename = 'Full Barcelona Hotels Data.csv'\n",
    "df.to_csv(filename, index=False)\n",
    "\n",
    "print(f\"DataFrame saved as {filename} successfully.\")"
   ]
  }
 ],
 "metadata": {
  "kernelspec": {
   "display_name": "Python 3 (ipykernel)",
   "language": "python",
   "name": "python3"
  },
  "language_info": {
   "codemirror_mode": {
    "name": "ipython",
    "version": 3
   },
   "file_extension": ".py",
   "mimetype": "text/x-python",
   "name": "python",
   "nbconvert_exporter": "python",
   "pygments_lexer": "ipython3",
   "version": "3.9.7"
  }
 },
 "nbformat": 4,
 "nbformat_minor": 5
}
